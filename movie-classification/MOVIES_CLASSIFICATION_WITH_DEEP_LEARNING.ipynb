{
  "cells": [
    {
      "source": [
        "# IMPORTANT: RUN THIS CELL IN ORDER TO IMPORT YOUR KAGGLE DATA SOURCES,\n",
        "# THEN FEEL FREE TO DELETE THIS CELL.\n",
        "# NOTE: THIS NOTEBOOK ENVIRONMENT DIFFERS FROM KAGGLE'S PYTHON\n",
        "# ENVIRONMENT SO THERE MAY BE MISSING LIBRARIES USED BY YOUR\n",
        "# NOTEBOOK.\n",
        "import kagglehub\n",
        "gabrielegalimberti_movies_example_for_machine_learning_activities_path = kagglehub.dataset_download('gabrielegalimberti/movies-example-for-machine-learning-activities')\n",
        "\n",
        "print('Data source import complete.')\n"
      ],
      "metadata": {
        "id": "9TTxJw1V20av"
      },
      "cell_type": "code",
      "outputs": [],
      "execution_count": null
    },
    {
      "metadata": {
        "_uuid": "8f2839f25d086af736a60e9eeb907d3b93b6e0e5",
        "_cell_guid": "b1076dfc-b9ad-4769-8c92-a6c4dae69d19",
        "trusted": true,
        "id": "cIAQT46L20aw"
      },
      "cell_type": "code",
      "source": [
        "# This Python 3 environment comes with many helpful analytics libraries installed\n",
        "# It is defined by the kaggle/python docker image: https://github.com/kaggle/docker-python\n",
        "# For example, here's several helpful packages to load in\n",
        "\n",
        "import numpy as np # linear algebra\n",
        "import pandas as pd # data processing, CSV file I/O (e.g. pd.read_csv)\n",
        "\n",
        "# Input data files are available in the \"../input/\" directory.\n",
        "# For example, running this (by clicking run or pressing Shift+Enter) will list all files under the input directory\n",
        "\n",
        "import os\n",
        "for dirname, _, filenames in os.walk('/kaggle/input'):\n",
        "    for filename in filenames:\n",
        "        print(os.path.join(dirname, filename))\n",
        "\n",
        "# Any results you write to the current directory are saved as output."
      ],
      "execution_count": null,
      "outputs": []
    },
    {
      "metadata": {
        "_uuid": "d629ff2d2480ee46fbb7e2d37f6b5fab8052498a",
        "_cell_guid": "79c7e3d0-c299-4dcb-8224-4455121ee9b0",
        "trusted": true,
        "id": "HGnLDBZ820ax"
      },
      "cell_type": "code",
      "source": [
        "from keras.layers import Input, Dense\n",
        "from keras.models import Model\n",
        "import matplotlib.pyplot as plt\n",
        "from sklearn.preprocessing import StandardScaler, LabelEncoder\n",
        "\n",
        "from keras.models import Sequential\n",
        "from keras.layers.core import Dense, Dropout, Activation, Flatten\n",
        "from keras.layers.noise import GaussianNoise\n",
        "from keras.layers.normalization import BatchNormalization\n",
        "from keras.layers.advanced_activations import PReLU\n",
        "from keras.utils import np_utils\n",
        "from keras.callbacks import History\n",
        "from keras import regularizers\n",
        "from keras.optimizers import SGD\n",
        "from sklearn.model_selection import train_test_split\n",
        "\n",
        "import pandas as pd\n",
        "import numpy as np\n",
        "\n",
        "columns = [\n",
        "    \"title\",\n",
        "    \"year\",\n",
        "    \"lifetime_gross\",\n",
        "    \"ratingInteger\",\n",
        "    \"ratingCount\",\n",
        "    \"duration\",\n",
        "    \"nrOfWins\",\n",
        "    \"nrOfNominations\",\n",
        "    \"nrOfPhotos\",\n",
        "    \"nrOfNewsArticles\",\n",
        "    \"nrOfUserReviews\",\n",
        "    \"nrOfGenre\",\n",
        "    \"Action\",\n",
        "    \"Adult\" ,\n",
        "    \"Adventure\",\n",
        "    \"Animation\",\n",
        "    \"Biography\",\n",
        "    \"Comedy\",\n",
        "    \"Crime\",\n",
        "    \"Documentary\",\n",
        "    \"Drama\",\n",
        "    \"Family\",\n",
        "    \"Fantasy\",\n",
        "    \"Horror\",\n",
        "    \"Music\",\n",
        "    \"Musical\",\n",
        "    \"Mystery\",\n",
        "    \"News\",\n",
        "    \"RealityTV\",\n",
        "    \"Romance\",\n",
        "    \"SciFi\",\n",
        "    \"Short\",\n",
        "    \"Sport\",\n",
        "    \"TalkShow\",\n",
        "    \"Thriller\",\n",
        "    \"War\",\n",
        "    \"Western\"]\n",
        "dt = pd.read_csv('../input/movies-example-for-machine-learning-activities/MACHINE_LEARNING_FINAL.csv', header=None, names=columns, sep=\";\")\n",
        "\n",
        "def plot_history(network_history):\n",
        "    plt.figure(figsize=(14,7))\n",
        "    ax = plt.subplot(1, 2, 1)\n",
        "    plt.xlabel('Epochs')\n",
        "    plt.ylabel('Loss')\n",
        "    plt.plot(x_plot, network_history.history['loss'])\n",
        "    plt.plot(x_plot, network_history.history['val_loss'])\n",
        "    plt.legend(['Training', 'Validation'])\n",
        "\n",
        "    ax = plt.subplot(1, 2, 2)\n",
        "    plt.xlabel('Epochs')\n",
        "    plt.ylabel('Accuracy')\n",
        "    plt.plot(x_plot, network_history.history['accuracy'])\n",
        "    plt.plot(x_plot, network_history.history['val_accuracy'])\n",
        "    plt.legend(['Training', 'Validation'], loc='lower right')\n",
        "\n",
        "    plt.show()\n",
        "\n",
        "def plot_representation(x_test,encoded_imgs,codex,codey,decoded_imgs):\n",
        "    n = 14\n",
        "    plt.figure(figsize=(16, 3))\n",
        "    for i in range(n):\n",
        "        # display original\n",
        "        ax = plt.subplot(3, n, i + 1)\n",
        "        plt.imshow(x_test[i].reshape(28, 28))\n",
        "        plt.gray()\n",
        "        ax.get_xaxis().set_visible(False)\n",
        "        ax.get_yaxis().set_visible(False)\n",
        "\n",
        "        ax = plt.subplot(3, n, i + 1 + n)\n",
        "        plt.imshow(encoded_imgs[i].reshape(codex, codey))\n",
        "        plt.gray()\n",
        "        ax.get_xaxis().set_visible(False)\n",
        "        ax.get_yaxis().set_visible(False)\n",
        "\n",
        "        # display reconstruction\n",
        "        ax = plt.subplot(3, n, i + 1 + 2*n)\n",
        "        plt.imshow(decoded_imgs[i].reshape(28, 28))\n",
        "        plt.gray()\n",
        "        ax.get_xaxis().set_visible(False)\n",
        "        ax.get_yaxis().set_visible(False)\n",
        "\n",
        "    plt.show()\n",
        "\n",
        "def preprocess_labels(labels, encoder=None, categorical=True):\n",
        "    if not encoder:\n",
        "        encoder = LabelEncoder()\n",
        "        encoder.fit(labels)\n",
        "    y = encoder.transform(labels).astype(np.int32)\n",
        "    if categorical:\n",
        "        y = np_utils.to_categorical(y)\n",
        "    return y, encoder"
      ],
      "execution_count": null,
      "outputs": []
    },
    {
      "metadata": {
        "trusted": true,
        "id": "URHrODo320ay"
      },
      "cell_type": "code",
      "source": [
        "dt.shape"
      ],
      "execution_count": null,
      "outputs": []
    },
    {
      "metadata": {
        "trusted": true,
        "id": "r0fJXKDR20ay"
      },
      "cell_type": "code",
      "source": [
        "dt.columns"
      ],
      "execution_count": null,
      "outputs": []
    },
    {
      "metadata": {
        "trusted": true,
        "id": "uDkYd9La20ay"
      },
      "cell_type": "code",
      "source": [
        "dati = dt.loc[1:, dt.columns != 'ratingInteger']\n",
        "dati = dati.loc[:, dati.columns != 'title']\n",
        "Y = dt['ratingInteger']\n",
        "Y = Y[1:]"
      ],
      "execution_count": null,
      "outputs": []
    },
    {
      "metadata": {
        "trusted": true,
        "id": "3Nhh7EW-20az"
      },
      "cell_type": "code",
      "source": [
        "dati.shape"
      ],
      "execution_count": null,
      "outputs": []
    },
    {
      "metadata": {
        "trusted": true,
        "id": "mU_QDorx20az"
      },
      "cell_type": "code",
      "source": [
        "Y.shape"
      ],
      "execution_count": null,
      "outputs": []
    },
    {
      "metadata": {
        "id": "w4t5U4jv20az"
      },
      "cell_type": "markdown",
      "source": [
        "FIRST APPROACH WITH DEEP LEARNING"
      ]
    },
    {
      "metadata": {
        "trusted": true,
        "id": "Mu0XDCAO20a0"
      },
      "cell_type": "code",
      "source": [
        "train , test , labels , tlabels = train_test_split(dati, Y)\n",
        "print(train.shape)\n",
        "print(test.shape)"
      ],
      "execution_count": null,
      "outputs": []
    },
    {
      "metadata": {
        "trusted": true,
        "id": "mG0P9ieQ20a0"
      },
      "cell_type": "code",
      "source": [
        "labels.value_counts()"
      ],
      "execution_count": null,
      "outputs": []
    },
    {
      "metadata": {
        "trusted": true,
        "id": "MiT3ZV6T20a1"
      },
      "cell_type": "code",
      "source": [
        "tlabels.value_counts()"
      ],
      "execution_count": null,
      "outputs": []
    },
    {
      "metadata": {
        "trusted": true,
        "id": "iB82k8QR20a1"
      },
      "cell_type": "code",
      "source": [
        "labels, encoder = preprocess_labels(labels)\n",
        "labels"
      ],
      "execution_count": null,
      "outputs": []
    },
    {
      "metadata": {
        "trusted": true,
        "id": "kvEVNJ0q20a1"
      },
      "cell_type": "code",
      "source": [
        "tlabels, tencoder = preprocess_labels(tlabels)\n",
        "tlabels"
      ],
      "execution_count": null,
      "outputs": []
    },
    {
      "metadata": {
        "trusted": true,
        "id": "aVzLOLWf20a2"
      },
      "cell_type": "code",
      "source": [
        "n_epochs = 100\n",
        "b = 100\n",
        "dims=len(train.columns)\n",
        "nb_classes=len(Y.unique())\n",
        "\n",
        "x_plot = list(range(1,n_epochs+1))\n",
        "\n",
        "model = Sequential()\n",
        "model.add(Dense(512, activation='relu', input_shape=(dims,)))\n",
        "model.add(Dense(512, activation='relu'))\n",
        "model.add(Dense(512, activation='relu'))\n",
        "model.add(Dense(nb_classes, activation='softmax'))\n",
        "model.compile(optimizer='rmsprop', loss='categorical_crossentropy', metrics=['accuracy'])\n",
        "network_history = model.fit(train, labels, epochs=n_epochs, batch_size=b, shuffle=True, validation_data=(test, tlabels))\n",
        "model.summary()"
      ],
      "execution_count": null,
      "outputs": []
    },
    {
      "metadata": {
        "trusted": true,
        "id": "_hVEl-pM20a2"
      },
      "cell_type": "code",
      "source": [
        "plot_history(network_history)\n",
        "\n",
        "score = model.evaluate(test,tlabels, batch_size=b) #evaluating the models accuracy or loss,\n",
        "print('test loss, test acc:', score)\n",
        "print(\"\\n%s: %.2f%%\" % (model.metrics_names[1], score[1]*100))\n",
        "print(\"\\n%s: %.2f\" % (model.metrics_names[0], score[0]))"
      ],
      "execution_count": null,
      "outputs": []
    },
    {
      "metadata": {
        "id": "jE9s69_U20a2"
      },
      "cell_type": "markdown",
      "source": [
        "SECOND APPROACH WITH DEEP LEARNING\n",
        "\n",
        "\n",
        "add normalization of data before training and test and Dropout Regularization"
      ]
    },
    {
      "metadata": {
        "trusted": true,
        "id": "CzR0wKQo20a2"
      },
      "cell_type": "code",
      "source": [
        "from sklearn import preprocessing\n",
        "\n",
        "x = dati.values #returns a numpy array\n",
        "min_max_scaler = preprocessing.MinMaxScaler()\n",
        "x_scaled = min_max_scaler.fit_transform(x)\n",
        "data = pd.DataFrame(x_scaled) # <-- Look! this is another variable\n",
        "\n",
        "seed = 2\n",
        "np.random.seed(seed)"
      ],
      "execution_count": null,
      "outputs": []
    },
    {
      "metadata": {
        "trusted": true,
        "id": "YIvmDcyT20a3"
      },
      "cell_type": "code",
      "source": [
        "train , test , labels , tlabels = train_test_split(data, Y)\n",
        "print(train.shape)\n",
        "print(test.shape)\n",
        "print(labels.value_counts())\n",
        "print(tlabels.value_counts())\n",
        "\n",
        "labels, encoder = preprocess_labels(labels)\n",
        "print(labels)\n",
        "\n",
        "tlabels, tencoder = preprocess_labels(tlabels)\n",
        "print(tlabels)\n"
      ],
      "execution_count": null,
      "outputs": []
    },
    {
      "metadata": {
        "id": "dnPWcwr120a3"
      },
      "cell_type": "markdown",
      "source": [
        "MODEL 1"
      ]
    },
    {
      "metadata": {
        "trusted": true,
        "id": "RApY-16O20a3"
      },
      "cell_type": "code",
      "source": [
        "n_epochs = 200\n",
        "b = 100\n",
        "dims=len(train.columns)\n",
        "nb_classes=len(Y.unique())\n",
        "\n",
        "model = Sequential()\n",
        "model.add(Dense(512, activation='relu', input_shape=(dims,)))\n",
        "model.add(Dropout(0.5))\n",
        "model.add(Dense(256, activation='relu'))\n",
        "model.add(Dense(nb_classes, activation='softmax'))\n",
        "model.compile(optimizer='rmsprop', loss='categorical_crossentropy', metrics=['accuracy'])\n",
        "network_history = model.fit(train, labels, epochs=n_epochs, batch_size=b, shuffle=True, validation_data=(test, tlabels))\n",
        "model.summary()"
      ],
      "execution_count": null,
      "outputs": []
    },
    {
      "metadata": {
        "trusted": true,
        "id": "-GF7Fxl120a4"
      },
      "cell_type": "code",
      "source": [
        "x_plot = list(range(1,n_epochs+1))\n",
        "\n",
        "plot_history(network_history)\n",
        "\n",
        "score = model.evaluate(test,tlabels, batch_size=b) #evaluating the models accuracy or loss,\n",
        "print('test loss, test acc:', score)\n",
        "print(\"\\n%s: %.2f%%\" % (model.metrics_names[1], score[1]*100))\n",
        "print(\"\\n%s: %.2f\" % (model.metrics_names[0], score[0]))"
      ],
      "execution_count": null,
      "outputs": []
    },
    {
      "metadata": {
        "id": "gIJHOfzM20a4"
      },
      "cell_type": "markdown",
      "source": [
        "MODEL 2\n",
        "\n"
      ]
    },
    {
      "metadata": {
        "trusted": true,
        "id": "quU3HtfA20a4"
      },
      "cell_type": "code",
      "source": [
        "n_epochs = 200\n",
        "b = 200\n",
        "dims=len(train.columns)\n",
        "nb_classes=len(Y.unique())\n",
        "\n",
        "model = Sequential()\n",
        "model.add(Dense(512, activation='relu', input_shape=(dims,)))\n",
        "model.add(Dropout(0.5))\n",
        "model.add(Dense(256, activation='relu'))\n",
        "model.add(Dense(nb_classes, activation='softmax'))\n",
        "model.compile(optimizer='rmsprop', loss='categorical_crossentropy', metrics=['accuracy'])\n",
        "network_history = model.fit(train, labels, epochs=n_epochs, batch_size=b, shuffle=True, validation_data=(test, tlabels))\n",
        "model.summary()"
      ],
      "execution_count": null,
      "outputs": []
    },
    {
      "metadata": {
        "trusted": true,
        "id": "7wU7iKpm20a4"
      },
      "cell_type": "code",
      "source": [
        "x_plot = list(range(1,n_epochs+1))\n",
        "\n",
        "plot_history(network_history)\n",
        "\n",
        "score = model.evaluate(test,tlabels, batch_size=b) #evaluating the models accuracy or loss,\n",
        "print('test loss, test acc:', score)\n",
        "print(\"\\n%s: %.2f%%\" % (model.metrics_names[1], score[1]*100))\n",
        "print(\"\\n%s: %.2f\" % (model.metrics_names[0], score[0]))"
      ],
      "execution_count": null,
      "outputs": []
    },
    {
      "metadata": {
        "trusted": true,
        "id": "MkOZiHjF20a5"
      },
      "cell_type": "code",
      "source": [
        "n_epochs = 200\n",
        "b = 512\n",
        "dims=len(train.columns)\n",
        "nb_classes=len(Y.unique())\n",
        "\n",
        "model = Sequential()\n",
        "model.add(Dense(512, activation='relu', input_shape=(dims,)))\n",
        "model.add(Dropout(0.5))\n",
        "model.add(Dense(256, activation='relu'))\n",
        "model.add(Dense(nb_classes, activation='softmax'))\n",
        "model.compile(optimizer='rmsprop', loss='categorical_crossentropy', metrics=['accuracy'])\n",
        "network_history = model.fit(train, labels, epochs=n_epochs, batch_size=b, shuffle=True, validation_data=(test, tlabels))\n",
        "model.summary()"
      ],
      "execution_count": null,
      "outputs": []
    },
    {
      "metadata": {
        "trusted": true,
        "id": "Xy1XfPmD20a6"
      },
      "cell_type": "code",
      "source": [
        "x_plot = list(range(1,n_epochs+1))\n",
        "\n",
        "plot_history(network_history)\n",
        "\n",
        "score = model.evaluate(test,tlabels, batch_size=b) #evaluating the models accuracy or loss,\n",
        "print('test loss, test acc:', score)\n",
        "print(\"\\n%s: %.2f%%\" % (model.metrics_names[1], score[1]*100))\n",
        "print(\"\\n%s: %.2f\" % (model.metrics_names[0], score[0]))"
      ],
      "execution_count": null,
      "outputs": []
    },
    {
      "metadata": {
        "id": "0eK3esgn20a8"
      },
      "cell_type": "markdown",
      "source": [
        "\n"
      ]
    },
    {
      "metadata": {
        "trusted": true,
        "id": "PWedzgmh20a8"
      },
      "cell_type": "code",
      "source": [
        "n_epochs = 200\n",
        "b = 512\n",
        "dims=len(train.columns)\n",
        "nb_classes=len(Y.unique())\n",
        "\n",
        "model = Sequential()\n",
        "model.add(Dense(256, activation='relu', input_shape=(dims,)))\n",
        "model.add(Dropout(0.5))\n",
        "model.add(Dense(256, activation='relu'))\n",
        "model.add(Dense(nb_classes, activation='softmax'))\n",
        "model.compile(optimizer='rmsprop', loss='categorical_crossentropy', metrics=['accuracy'])\n",
        "network_history = model.fit(train, labels, epochs=n_epochs, batch_size=b, shuffle=True, validation_data=(test, tlabels))\n",
        "model.summary()\n",
        "\n",
        "x_plot = list(range(1,n_epochs+1))\n",
        "\n",
        "plot_history(network_history)\n",
        "\n",
        "score = model.evaluate(test,tlabels, batch_size=b) #evaluating the models accuracy or loss,\n",
        "print('test loss, test acc:', score)\n",
        "print(\"\\n%s: %.2f%%\" % (model.metrics_names[1], score[1]*100))\n",
        "print(\"\\n%s: %.2f\" % (model.metrics_names[0], score[0]))"
      ],
      "execution_count": null,
      "outputs": []
    },
    {
      "metadata": {
        "id": "TRwlGC0s20a9"
      },
      "cell_type": "markdown",
      "source": [
        "# In the next notebook I try to use Fine-Tuning and Transfer-Learning to enanche the performance of this task.\n",
        "# Actually HP Optimization I can't do it due to a problem of installation pyGPGO packages."
      ]
    },
    {
      "metadata": {
        "id": "GfNIMRGq20a9"
      },
      "cell_type": "markdown",
      "source": [
        "Thanks for you attention"
      ]
    },
    {
      "metadata": {
        "trusted": true,
        "id": "m23sDksU20a9"
      },
      "cell_type": "code",
      "source": [],
      "execution_count": null,
      "outputs": []
    }
  ],
  "metadata": {
    "kernelspec": {
      "language": "python",
      "display_name": "Python 3",
      "name": "python3"
    },
    "language_info": {
      "pygments_lexer": "ipython3",
      "nbconvert_exporter": "python",
      "version": "3.6.4",
      "file_extension": ".py",
      "codemirror_mode": {
        "name": "ipython",
        "version": 3
      },
      "name": "python",
      "mimetype": "text/x-python"
    },
    "colab": {
      "name": "MOVIES CLASSIFICATION WITH DEEP LEARNING",
      "provenance": []
    }
  },
  "nbformat": 4,
  "nbformat_minor": 0
}